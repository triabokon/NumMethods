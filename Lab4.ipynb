{
 "cells": [
  {
   "cell_type": "code",
   "execution_count": 69,
   "metadata": {},
   "outputs": [],
   "source": [
    "from sympy import Symbol, simplify, lambdify, expand\n",
    "import numpy as np\n",
    "import matplotlib.pyplot as plt\n",
    "from matplotlib.ticker import FormatStrFormatter\n",
    "from functools import reduce\n",
    "import operator"
   ]
  },
  {
   "cell_type": "markdown",
   "metadata": {},
   "source": [
    "### Інтерполяційний многочлен Лагранжа"
   ]
  },
  {
   "cell_type": "code",
   "execution_count": 70,
   "metadata": {},
   "outputs": [],
   "source": [
    "x_values = [\n",
    "    -20.061, -18.460, -18.119, -17.455,\n",
    "    -15.386, -13.808, -13.282, -11.270,\n",
    "    -10.951, -10.280, -6.300, -4.606,\n",
    "    -3.902, -3.656, -1.280, -0.228,\n",
    "    -0.068, 1.428, 11.248, 12.692,\n",
    "    13.094, 15.104, 18.180, 18.424,\n",
    "    19.127, 19.942, 21.238,\n",
    "]\n",
    "y_values = [\n",
    "    127.098, 96.514, 95.938, 98.498,\n",
    "    93.513, 59.084, 48.788, 39.285,\n",
    "    40.464, 41.970, 6.931, 7.561,\n",
    "    7.902, 7.638, 0.178, -0.205,\n",
    "    -0.066, 0.883, 44.985, 66.286,\n",
    "    68.463, 63.612, 124.429, 129.921,\n",
    "    140.341, 141.739, 134.857,\n",
    "]\n",
    "control_points = [\n",
    "    -18.935, -18.803, -18.643, -13.345,\n",
    "    -12.055, -9.187, -8.333, -5.474,\n",
    "    -4.726, -2.364, 3.217, 17.228,\n",
    "     19.033,\n",
    "]"
   ]
  },
  {
   "cell_type": "code",
   "execution_count": 71,
   "metadata": {},
   "outputs": [],
   "source": [
    "def interpolate_lagrange_1(x, w):\n",
    "    M = len(x)\n",
    "    p = np.poly1d(0.0)\n",
    "    for j in range(M):\n",
    "        pt = np.poly1d(w[j])\n",
    "        for k in range(M):\n",
    "            if k == j:\n",
    "                continue\n",
    "            fac = x[j]-x[k]\n",
    "            pt *= np.poly1d([1.0, -x[k]])/fac\n",
    "        p += pt\n",
    "    return p"
   ]
  },
  {
   "cell_type": "code",
   "execution_count": 72,
   "metadata": {},
   "outputs": [],
   "source": [
    "def interpolate_lagrange_2(x, x_values, y_values):\n",
    "    \"\"\"\n",
    "    x : value at which to evaluate y, should be between min and max x_values\n",
    "    x_values: list or numpy array containing values of x\n",
    "    y_values: list or numpy array contaning values of y\n",
    "    \"\"\"\n",
    "    def _basis(j):\n",
    "        p = [(x - x_values[m])/(x_values[j] - x_values[m]) for m in range(k) if m != j]\n",
    "        return reduce(operator.mul, p)\n",
    "    assert len(x_values) != 0 and (len(x_values) == len(y_values)), 'x and y cannot be empty and must have the same length'\n",
    "    k = len(x_values)\n",
    "    return sum(_basis(j)*y_values[j] for j in range(k)) "
   ]
  },
  {
   "cell_type": "code",
   "execution_count": 73,
   "metadata": {},
   "outputs": [],
   "source": [
    "x = Symbol('x')\n",
    "poly = interpolate_lagrange_1(x_values, y_values)\n",
    "# poly = interpolate_lagrange_2(x, x_values, y_values)"
   ]
  },
  {
   "cell_type": "code",
   "execution_count": 74,
   "metadata": {},
   "outputs": [],
   "source": [
    "x1 = np.array(control_points)\n",
    "y1 = poly(x1)\n",
    "# y1 = lambdify(x, poly)(x1)"
   ]
  },
  {
   "cell_type": "code",
   "execution_count": 75,
   "metadata": {},
   "outputs": [
    {
     "data": {
      "image/png": "[encoded data removed]",
      "text/plain": [
       "<Figure size 432x288 with 1 Axes>"
      ]
     },
     "metadata": {
      "needs_background": "light"
     },
     "output_type": "display_data"
    }
   ],
   "source": [
    "fig, ax = plt.subplots()\n",
    "ax.plot(x_values, y_values)\n",
    "ax.yaxis.set_major_formatter(FormatStrFormatter('%.5f'))\n",
    "ax.xaxis.set_major_formatter(FormatStrFormatter('%.5f'))\n",
    "ax.scatter(x1, y1, c = 'r')\n",
    "plt.show()"
   ]
  },
  {
   "cell_type": "markdown",
   "metadata": {},
   "source": [
    "### Перша інтерполяційна формула Ньютона\n",
    "f(X) = ln(x^3) + cos(x) + x"
   ]
  },
  {
   "cell_type": "code",
   "execution_count": 76,
   "metadata": {},
   "outputs": [],
   "source": [
    "control_points = [\n",
    "    8.420, 8.677, 10.250, 11.213,\n",
    "    11.288, 11.942, 12.288, 12.463,\n",
    "    12.834, 12.913, 14.207, 16.404,\n",
    "    16.639, 16.942, 18.683, 18.795,\n",
    "    19.071,\n",
    "]"
   ]
  },
  {
   "cell_type": "code",
   "execution_count": 77,
   "metadata": {},
   "outputs": [],
   "source": [
    "def f(x):\n",
    "    return np.log(x**3) + np.cos(x) + x"
   ]
  },
  {
   "cell_type": "code",
   "execution_count": 78,
   "metadata": {},
   "outputs": [],
   "source": [
    "x_values=np.linspace(6, 20, len(control_points))\n",
    "y_values = np.array(list(map(f, x_values)))"
   ]
  },
  {
   "cell_type": "code",
   "execution_count": 79,
   "metadata": {},
   "outputs": [],
   "source": [
    "def newton_method(x, x_values, y_values):\n",
    "    n=len(x_values)\n",
    "    f=np.zeros((n,n))\n",
    "    f[:,0]=y_values\n",
    "    for i in range(n-1,0,-1):\n",
    "        for j in range(0,i):\n",
    "            f[n-i+j,n-i]=(f[n-i+j,n-i-1]-f[n-i+j-1,n-i-1])/(x_values[n-i+j]-x_values[j])\n",
    "    P=0\n",
    "    for i in range(0,n):\n",
    "        a=f[i,i]\n",
    "        for j in range(0,i):\n",
    "            a=a*(x-x_values[j])\n",
    "        P=P+a\n",
    "    return P"
   ]
  },
  {
   "cell_type": "code",
   "execution_count": 80,
   "metadata": {},
   "outputs": [
    {
     "name": "stdout",
     "output_type": "stream",
     "text": [
      "The interpolating polynomial is:\n"
     ]
    },
    {
     "data": {
      "text/latex": [
       "$\\displaystyle 2.59469878238185 \\cdot 10^{-14} X^{16} - 5.21715859393788 \\cdot 10^{-12} X^{15} + 4.81719266632398 \\cdot 10^{-10} X^{14} - 2.70770611702637 \\cdot 10^{-8} X^{13} + 1.03603102832376 \\cdot 10^{-6} X^{12} - 2.86015907914948 \\cdot 10^{-5} X^{11} + 0.000589563739537126 X^{10} - 0.00926862525689755 X^{9} + 0.112572694959192 X^{8} - 1.06288929408596 X^{7} + 7.79748042810571 X^{6} - 44.0634689286626 X^{5} + 188.170741826749 X^{4} - 587.12418426211 X^{3} + 1262.9246998059 X^{2} - 1672.93768438468 X + 1031.93734978955$"
      ],
      "text/plain": [
       "2.59469878238185e-14*X**16 - 5.21715859393788e-12*X**15 + 4.81719266632398e-10*X**14 - 2.70770611702637e-8*X**13 + 1.03603102832376e-6*X**12 - 2.86015907914948e-5*X**11 + 0.000589563739537126*X**10 - 0.00926862525689755*X**9 + 0.112572694959192*X**8 - 1.06288929408596*X**7 + 7.79748042810571*X**6 - 44.0634689286626*X**5 + 188.170741826749*X**4 - 587.12418426211*X**3 + 1262.9246998059*X**2 - 1672.93768438468*X + 1031.93734978955"
      ]
     },
     "execution_count": 80,
     "metadata": {},
     "output_type": "execute_result"
    }
   ],
   "source": [
    "x=Symbol('X')\n",
    "P=newton_method(x,x_values,y_values)\n",
    "print('The interpolating polynomial is:')\n",
    "expand(P)"
   ]
  },
  {
   "cell_type": "code",
   "execution_count": 81,
   "metadata": {},
   "outputs": [],
   "source": [
    "x_approx = np.array(control_points)\n",
    "y_approx = lambdify(x, P)(x_approx)"
   ]
  },
  {
   "cell_type": "code",
   "execution_count": 82,
   "metadata": {},
   "outputs": [
    {
     "data": {
      "image/png": "[encoded data removed]",
      "text/plain": [
       "<Figure size 432x288 with 1 Axes>"
      ]
     },
     "metadata": {
      "needs_background": "light"
     },
     "output_type": "display_data"
    }
   ],
   "source": [
    "fig, ax = plt.subplots()\n",
    "ax.plot(x_values, y_values)\n",
    "ax.scatter(x_approx, y_approx, c = 'r')\n",
    "plt.show()"
   ]
  }
 ],
 "metadata": {
  "kernelspec": {
   "display_name": "Python 3",
   "language": "python",
   "name": "python3"
  },
  "language_info": {
   "codemirror_mode": {
    "name": "ipython",
    "version": 3
   },
   "file_extension": ".py",
   "mimetype": "text/x-python",
   "name": "python",
   "nbconvert_exporter": "python",
   "pygments_lexer": "ipython3",
   "version": "3.7.0"
  }
 },
 "nbformat": 4,
 "nbformat_minor": 2
}
