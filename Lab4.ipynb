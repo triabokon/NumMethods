{
 "cells": [
  {
   "cell_type": "code",
   "execution_count": 228,
   "metadata": {},
   "outputs": [],
   "source": [
    "from sympy import Symbol, simplify, lambdify, expand\n",
    "import numpy as np\n",
    "import matplotlib.pyplot as plt\n",
    "from functools import reduce\n",
    "import operator"
   ]
  },
  {
   "cell_type": "markdown",
   "metadata": {},
   "source": [
    "### Інтерполяційний многочлен Лагранжа"
   ]
  },
  {
   "cell_type": "code",
   "execution_count": 251,
   "metadata": {},
   "outputs": [],
   "source": [
    "x_values = [\n",
    "    -20.061, -18.460, -18.119, -17.455,\n",
    "    -15.386, -13.808, -13.282, -11.270,\n",
    "    -10.951, -10.280, -6.300, -4.606,\n",
    "    -3.902, -3.656, -1.280, -0.228,\n",
    "    -0.068, 1.428, 11.248, 12.692,\n",
    "    13.094, 15.104, 18.180, 18.424,\n",
    "    19.127, 19.942, 21.238,\n",
    "]\n",
    "y_values = [\n",
    "    127.098, 96.514, 95.938, 98.498,\n",
    "    93.513, 59.084, 48.788, 39.285,\n",
    "    40.464, 41.970, 6.931, 7.561,\n",
    "    7.902, 7.638, 0.178, -0.205,\n",
    "    -0.066, 0.883, 44.985, 66.286,\n",
    "    68.463, 63.612, 124.429, 129.921,\n",
    "    140.341, 141.739, 134.857,\n",
    "]\n",
    "control_points = [\n",
    "    -18.935, -18.803, -18.643, -13.345,\n",
    "    -12.055, -9.187, -8.333, -5.474,\n",
    "    -4.726, -2.364, 3.217, 17.228,\n",
    "     19.033,\n",
    "]"
   ]
  },
  {
   "cell_type": "code",
   "execution_count": 252,
   "metadata": {},
   "outputs": [],
   "source": [
    "def interpolate_lagrange(x, x_values, y_values):\n",
    "    \"\"\"\n",
    "    x : value at which to evaluate y, should be between min and max x_values\n",
    "    x_values: list or numpy array containing values of x\n",
    "    y_values: list or numpy array contaning values of y\n",
    "    \"\"\"\n",
    "    def _basis(j):\n",
    "        p = [(x - x_values[m])/(x_values[j] - x_values[m]) for m in range(k) if m != j]\n",
    "        return reduce(operator.mul, p)\n",
    "    assert len(x_values) != 0 and (len(x_values) == len(y_values)), 'x and y cannot be empty and must have the same length'\n",
    "    k = len(x_values)\n",
    "    return sum(_basis(j)*y_values[j] for j in range(k)) "
   ]
  },
  {
   "cell_type": "code",
   "execution_count": 281,
   "metadata": {},
   "outputs": [
    {
     "data": {
      "text/latex": [
       "$\\displaystyle 2.5946987741537 \\cdot 10^{-14} x^{16} - 5.21715858170565 \\cdot 10^{-12} x^{15} + 4.81719265464894 \\cdot 10^{-10} x^{14} - 2.70770611519931 \\cdot 10^{-8} x^{13} + 1.03603102878311 \\cdot 10^{-6} x^{12} - 2.86015908214643 \\cdot 10^{-5} x^{11} + 0.000589563740208021 x^{10} - 0.00926862522676686 x^{9} + 0.112572694545634 x^{8} - 1.06288929154834 x^{7} + 7.79748041759012 x^{6} - 44.0634688860737 x^{5} + 188.17074289592 x^{4} - 587.124180845916 x^{3} + 1262.9246808663 x^{2} - 1672.93765167147 x + 1031.93732643127$"
      ],
      "text/plain": [
       "2.5946987741537e-14*x**16 - 5.21715858170565e-12*x**15 + 4.81719265464894e-10*x**14 - 2.70770611519931e-8*x**13 + 1.03603102878311e-6*x**12 - 2.86015908214643e-5*x**11 + 0.000589563740208021*x**10 - 0.00926862522676686*x**9 + 0.112572694545634*x**8 - 1.06288929154834*x**7 + 7.79748041759012*x**6 - 44.0634688860737*x**5 + 188.17074289592*x**4 - 587.124180845916*x**3 + 1262.9246808663*x**2 - 1672.93765167147*x + 1031.93732643127"
      ]
     },
     "execution_count": 281,
     "metadata": {},
     "output_type": "execute_result"
    }
   ],
   "source": [
    "x = Symbol('x')\n",
    "poly = simplify(interpolate_lagrange(x, x_values, y_values))\n",
    "expand(poly)"
   ]
  },
  {
   "cell_type": "code",
   "execution_count": 282,
   "metadata": {},
   "outputs": [],
   "source": [
    "x1 = np.array(control_points)\n",
    "y1 = lambdify(x, poly)(x1)"
   ]
  },
  {
   "cell_type": "code",
   "execution_count": 283,
   "metadata": {},
   "outputs": [
    {
     "data": {
      "image/png": "[encoded data removed]",
      "text/plain": [
       "<Figure size 432x288 with 1 Axes>"
      ]
     },
     "metadata": {
      "needs_background": "light"
     },
     "output_type": "display_data"
    }
   ],
   "source": [
    "fig, ax = plt.subplots()\n",
    "ax.plot(x1, y1)\n",
    "ax.scatter(x_values, y_values, c = 'r')\n",
    "plt.show()"
   ]
  },
  {
   "cell_type": "markdown",
   "metadata": {},
   "source": [
    "### Перша інтерполяційна формула Ньютона\n",
    "f(X) = ln(x^3) + cos(x) + x"
   ]
  },
  {
   "cell_type": "code",
   "execution_count": 255,
   "metadata": {},
   "outputs": [],
   "source": [
    "control_points = [\n",
    "    8.420, 8.677, 10.250, 11.213,\n",
    "    11.288, 11.942, 12.288, 12.463,\n",
    "    12.834, 12.913, 14.207, 16.404,\n",
    "    16.639, 16.942, 18.683, 18.795,\n",
    "    19.071,\n",
    "]"
   ]
  },
  {
   "cell_type": "code",
   "execution_count": 256,
   "metadata": {},
   "outputs": [],
   "source": [
    "def f(x):\n",
    "    return np.log(x**3) + np.cos(x) + x"
   ]
  },
  {
   "cell_type": "code",
   "execution_count": 257,
   "metadata": {},
   "outputs": [],
   "source": [
    "x_values=np.linspace(6, 20, len(control_points))\n",
    "y_values = np.array(list(map(f, x_values)))"
   ]
  },
  {
   "cell_type": "code",
   "execution_count": 258,
   "metadata": {},
   "outputs": [
    {
     "data": {
      "text/plain": [
       "array([12.33544869, 13.48860462, 13.99687289, 14.39212892, 15.25670324,\n",
       "       16.81169473, 18.76279404, 20.51497533, 21.60229485, 22.02444004,\n",
       "       22.24854198, 22.87505607, 24.20768409, 26.03618908, 27.78808152,\n",
       "       28.94029365, 29.39527888])"
      ]
     },
     "execution_count": 258,
     "metadata": {},
     "output_type": "execute_result"
    }
   ],
   "source": [
    "y_values"
   ]
  },
  {
   "cell_type": "code",
   "execution_count": 259,
   "metadata": {},
   "outputs": [],
   "source": [
    "def Newton(x, x_values, y_values):\n",
    "    n=len(x_values)\n",
    "    f=np.zeros((n,n))\n",
    "    f[:,0]=y_values\n",
    "    for i in range(n-1,0,-1):\n",
    "        for j in range(0,i):\n",
    "            f[n-i+j,n-i]=(f[n-i+j,n-i-1]-f[n-i+j-1,n-i-1])/(x_values[n-i+j]-x_values[j])\n",
    "    P=0\n",
    "    for i in range(0,n):\n",
    "        a=f[i,i]\n",
    "        for j in range(0,i):\n",
    "            a=a*(x-x_values[j])\n",
    "        P=P+a\n",
    "    return P"
   ]
  },
  {
   "cell_type": "code",
   "execution_count": 277,
   "metadata": {},
   "outputs": [
    {
     "name": "stdout",
     "output_type": "stream",
     "text": [
      "The interpolating polynomial is:\n"
     ]
    },
    {
     "data": {
      "text/latex": [
       "$\\displaystyle 2.59469878238185 \\cdot 10^{-14} X^{16} - 5.21715859393788 \\cdot 10^{-12} X^{15} + 4.81719266632398 \\cdot 10^{-10} X^{14} - 2.70770611702637 \\cdot 10^{-8} X^{13} + 1.03603102832376 \\cdot 10^{-6} X^{12} - 2.86015907914948 \\cdot 10^{-5} X^{11} + 0.000589563739537126 X^{10} - 0.00926862525689755 X^{9} + 0.112572694959192 X^{8} - 1.06288929408596 X^{7} + 7.79748042810571 X^{6} - 44.0634689286626 X^{5} + 188.170741826749 X^{4} - 587.12418426211 X^{3} + 1262.9246998059 X^{2} - 1672.93768438468 X + 1031.93734978955$"
      ],
      "text/plain": [
       "2.59469878238185e-14*X**16 - 5.21715859393788e-12*X**15 + 4.81719266632398e-10*X**14 - 2.70770611702637e-8*X**13 + 1.03603102832376e-6*X**12 - 2.86015907914948e-5*X**11 + 0.000589563739537126*X**10 - 0.00926862525689755*X**9 + 0.112572694959192*X**8 - 1.06288929408596*X**7 + 7.79748042810571*X**6 - 44.0634689286626*X**5 + 188.170741826749*X**4 - 587.12418426211*X**3 + 1262.9246998059*X**2 - 1672.93768438468*X + 1031.93734978955"
      ]
     },
     "execution_count": 277,
     "metadata": {},
     "output_type": "execute_result"
    }
   ],
   "source": [
    "x=Symbol('X')\n",
    "P=Newton(x,x_values,y_values)\n",
    "print('The interpolating polynomial is:')\n",
    "expand(P)"
   ]
  },
  {
   "cell_type": "code",
   "execution_count": 273,
   "metadata": {},
   "outputs": [],
   "source": [
    "x_approx = np.array(control_points)\n",
    "y_approx = lambdify(x, P)(x_approx)"
   ]
  },
  {
   "cell_type": "code",
   "execution_count": 276,
   "metadata": {},
   "outputs": [
    {
     "data": {
      "image/png": "[encoded data removed]",
      "text/plain": [
       "<Figure size 432x288 with 1 Axes>"
      ]
     },
     "metadata": {
      "needs_background": "light"
     },
     "output_type": "display_data"
    }
   ],
   "source": [
    "fig, ax = plt.subplots()\n",
    "ax.plot(x_approx, y_approx)\n",
    "ax.scatter(x_values, y_values, c = 'r')\n",
    "plt.show()"
   ]
  }
 ],
 "metadata": {
  "kernelspec": {
   "display_name": "Python 3",
   "language": "python",
   "name": "python3"
  },
  "language_info": {
   "codemirror_mode": {
    "name": "ipython",
    "version": 3
   },
   "file_extension": ".py",
   "mimetype": "text/x-python",
   "name": "python",
   "nbconvert_exporter": "python",
   "pygments_lexer": "ipython3",
   "version": "3.7.0"
  }
 },
 "nbformat": 4,
 "nbformat_minor": 2
}
