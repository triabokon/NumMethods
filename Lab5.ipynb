{
 "cells": [
  {
   "cell_type": "code",
   "execution_count": 35,
   "metadata": {},
   "outputs": [],
   "source": [
    "import math\n",
    "import numpy as np\n",
    "import matplotlib.pyplot as plt\n",
    "np.set_printoptions(precision=3, suppress=True)"
   ]
  },
  {
   "cell_type": "code",
   "execution_count": 36,
   "metadata": {},
   "outputs": [],
   "source": [
    "def ctg(x):\n",
    "    return math.cos(x) / math.sin(x)"
   ]
  },
  {
   "cell_type": "code",
   "execution_count": 37,
   "metadata": {},
   "outputs": [],
   "source": [
    "def f(x):\n",
    "    return (1 + math.sqrt(ctg(x)))/math.pow(math.sin(x), 2)"
   ]
  },
  {
   "cell_type": "code",
   "execution_count": 38,
   "metadata": {},
   "outputs": [],
   "source": [
    "def trapezoid_rule(f, a, b, n):\n",
    "    h = (b - a) / n\n",
    "    y = [f(val) for val in np.arange(a, b + h, h)]\n",
    "    I = h * ((y[0] + y[-1])/2 + sum(y[1:-1]))\n",
    "    return h, y, I"
   ]
  },
  {
   "cell_type": "code",
   "execution_count": 39,
   "metadata": {},
   "outputs": [],
   "source": [
    "n = 55509\n",
    "h, y, I = trapezoid_rule(f, 0.5, 1, n)"
   ]
  },
  {
   "cell_type": "code",
   "execution_count": 40,
   "metadata": {},
   "outputs": [
    {
     "name": "stdout",
     "output_type": "stream",
     "text": [
      "h = 0.000009\n",
      "y =  [10.237 10.237 10.236 ...  2.544  2.544  2.544]\n",
      "I =  2.4964315434634945\n"
     ]
    }
   ],
   "source": [
    "print(\"h = %f\" % h)\n",
    "print(\"y = \", np.array(y))\n",
    "print(\"I = \", I)"
   ]
  },
  {
   "cell_type": "code",
   "execution_count": 41,
   "metadata": {},
   "outputs": [],
   "source": [
    "def rectangle_rule(low, high, f, N):\n",
    "    rectangle_edges=np.linspace(low, high, N)\n",
    "    area=0\n",
    "    for r in range(len(rectangle_edges)):\n",
    "        area+=f(low+r*(high-low)/N)*(high-low)/N\n",
    "    return(area)"
   ]
  },
  {
   "cell_type": "code",
   "execution_count": 42,
   "metadata": {},
   "outputs": [
    {
     "data": {
      "text/plain": [
       "2.4964661910481807"
      ]
     },
     "execution_count": 42,
     "metadata": {},
     "output_type": "execute_result"
    }
   ],
   "source": [
    "rectangle_rule(0.5, 1, f, n)"
   ]
  },
  {
   "cell_type": "code",
   "execution_count": 43,
   "metadata": {},
   "outputs": [],
   "source": [
    "def rectangle_method(a, b, func, N=10):\n",
    "    \"\"\"\n",
    "    Implementation of the rectangle method to integrate\n",
    "    Arguments\n",
    "    ---------\n",
    "    a: float, Lower boundary\n",
    "    b: floar, Upper boundary\n",
    "    func: function, Function to integrate\n",
    "    N: int, amount of slices to use\n",
    "    Return\n",
    "    ------\n",
    "    float, Integration result\n",
    "    \"\"\"\n",
    "\n",
    "    # Slice width\n",
    "    h = (b - a) / N\n",
    "\n",
    "    # Discrete x values\n",
    "    x = np.linspace(a, b, N+1)\n",
    "\n",
    "    result = 0\n",
    "    for i in range(N):\n",
    "        y = (func(x[i]) + func(x[i+1])) / 2\n",
    "        result += h*y\n",
    "    return result\n"
   ]
  },
  {
   "cell_type": "code",
   "execution_count": 44,
   "metadata": {},
   "outputs": [
    {
     "data": {
      "text/plain": [
       "2.496431543456569"
      ]
     },
     "execution_count": 44,
     "metadata": {},
     "output_type": "execute_result"
    }
   ],
   "source": [
    "rectangle_method(0.5, 1, f, n)"
   ]
  },
  {
   "cell_type": "code",
   "execution_count": null,
   "metadata": {},
   "outputs": [],
   "source": []
  }
 ],
 "metadata": {
  "kernelspec": {
   "display_name": "Python 3",
   "language": "python",
   "name": "python3"
  },
  "language_info": {
   "codemirror_mode": {
    "name": "ipython",
    "version": 3
   },
   "file_extension": ".py",
   "mimetype": "text/x-python",
   "name": "python",
   "nbconvert_exporter": "python",
   "pygments_lexer": "ipython3",
   "version": "3.7.0"
  }
 },
 "nbformat": 4,
 "nbformat_minor": 2
}
