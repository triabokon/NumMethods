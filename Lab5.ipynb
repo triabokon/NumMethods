{
 "cells": [
  {
   "cell_type": "code",
   "execution_count": 77,
   "metadata": {},
   "outputs": [],
   "source": [
    "import math\n",
    "import numpy as np\n",
    "import matplotlib.pyplot as plt\n",
    "np.set_printoptions(precision=3, suppress=True)"
   ]
  },
  {
   "cell_type": "code",
   "execution_count": 78,
   "metadata": {},
   "outputs": [],
   "source": [
    "def ctg(x):\n",
    "    return math.cos(x) / math.sin(x)"
   ]
  },
  {
   "cell_type": "code",
   "execution_count": 79,
   "metadata": {},
   "outputs": [],
   "source": [
    "def f(x):\n",
    "    return (1 + math.sqrt(ctg(x)))/math.pow(math.sin(x), 2)"
   ]
  },
  {
   "cell_type": "code",
   "execution_count": 80,
   "metadata": {},
   "outputs": [],
   "source": [
    "def trapezoid_rule(f, a, b, n):\n",
    "    h = (b - a) / n\n",
    "    y = [f(val) for val in np.arange(a, b + h, h)]\n",
    "    I = h * ((y[0] + y[-1])/2 + sum(y[1:-1]))\n",
    "    return h, y, I"
   ]
  },
  {
   "cell_type": "code",
   "execution_count": 81,
   "metadata": {},
   "outputs": [],
   "source": [
    "n = 55509\n",
    "a = 0.5\n",
    "b = 1\n",
    "h, y, I = trapezoid_rule(f, a, b, n)"
   ]
  },
  {
   "cell_type": "code",
   "execution_count": 82,
   "metadata": {},
   "outputs": [
    {
     "name": "stdout",
     "output_type": "stream",
     "text": [
      "h = 0.000009\n",
      "y =  [10.237 10.237 10.236 ...  2.544  2.544  2.544]\n",
      "I =  2.4964315434634945\n"
     ]
    }
   ],
   "source": [
    "print(\"h = %f\" % h)\n",
    "print(\"y = \", np.array(y))\n",
    "print(\"I = \", I)"
   ]
  },
  {
   "cell_type": "code",
   "execution_count": 83,
   "metadata": {},
   "outputs": [],
   "source": [
    "def rectangle_method(f, a, b, n):\n",
    "    h = (b - a) / n\n",
    "    x = np.linspace(a, b, n+1)\n",
    "\n",
    "    I = 0\n",
    "    for i in range(n):\n",
    "        y = (f(x[i]) + f(x[i+1])) / 2\n",
    "        I += h * y\n",
    "    return h, I"
   ]
  },
  {
   "cell_type": "code",
   "execution_count": 84,
   "metadata": {},
   "outputs": [],
   "source": [
    "h, I = rectangle_method(f, a, b, n)"
   ]
  },
  {
   "cell_type": "code",
   "execution_count": 85,
   "metadata": {},
   "outputs": [
    {
     "name": "stdout",
     "output_type": "stream",
     "text": [
      "h = 0.000009\n",
      "I =  2.496431543456569\n"
     ]
    }
   ],
   "source": [
    "print(\"h = %f\" % h)\n",
    "print(\"I = \", I)"
   ]
  }
 ],
 "metadata": {
  "kernelspec": {
   "display_name": "Python 3",
   "language": "python",
   "name": "python3"
  },
  "language_info": {
   "codemirror_mode": {
    "name": "ipython",
    "version": 3
   },
   "file_extension": ".py",
   "mimetype": "text/x-python",
   "name": "python",
   "nbconvert_exporter": "python",
   "pygments_lexer": "ipython3",
   "version": "3.7.0"
  }
 },
 "nbformat": 4,
 "nbformat_minor": 2
}
