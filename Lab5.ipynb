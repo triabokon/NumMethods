{
 "cells": [
  {
   "cell_type": "code",
   "execution_count": 1,
   "metadata": {},
   "outputs": [],
   "source": [
    "import math\n",
    "import numpy as np\n",
    "import matplotlib.pyplot as plt\n",
    "from prettytable import PrettyTable\n",
    "np.set_printoptions(precision=3, suppress=True)"
   ]
  },
  {
   "cell_type": "code",
   "execution_count": 2,
   "metadata": {},
   "outputs": [],
   "source": [
    "def ctg(x):\n",
    "    return math.cos(x) / math.sin(x)"
   ]
  },
  {
   "cell_type": "code",
   "execution_count": 3,
   "metadata": {},
   "outputs": [],
   "source": [
    "def f(x):\n",
    "    return (1 + math.sqrt(ctg(x)))/math.pow(math.sin(x), 2)"
   ]
  },
  {
   "cell_type": "code",
   "execution_count": 4,
   "metadata": {},
   "outputs": [],
   "source": [
    "def trapezoid_rule(f, a, b, n):\n",
    "    h = (b - a) / n\n",
    "    y = [f(val) for val in np.arange(a, b + h, h)]\n",
    "    I = h * ((y[0] + y[-1])/2 + sum(y[1:-1]))\n",
    "    return h, y, I"
   ]
  },
  {
   "cell_type": "code",
   "execution_count": 5,
   "metadata": {},
   "outputs": [],
   "source": [
    "n = 55509\n",
    "a = 0.5\n",
    "b = 1\n",
    "h, y, I = trapezoid_rule(f, a, b, n)"
   ]
  },
  {
   "cell_type": "code",
   "execution_count": 6,
   "metadata": {},
   "outputs": [
    {
     "name": "stdout",
     "output_type": "stream",
     "text": [
      "h = 0.000009\n",
      "y =  [10.237 10.237 10.236 ...  2.544  2.544  2.544]\n",
      "I =  2.4964315434634945\n"
     ]
    }
   ],
   "source": [
    "print(\"h = %f\" % h)\n",
    "print(\"y = \", np.array(y))\n",
    "print(\"I = \", I)"
   ]
  },
  {
   "cell_type": "code",
   "execution_count": 10,
   "metadata": {},
   "outputs": [],
   "source": [
    "def rectangle_method(f, a, b, e=(10**-9)):\n",
    "    it_H = []\n",
    "    ir_H = []\n",
    "    it_h = []\n",
    "    rt_h = []\n",
    "\n",
    "    n = 1\n",
    "    H = b - a\n",
    "    it_H.append(H / 2 * (f(a) + f(b)))\n",
    "\n",
    "    while True:\n",
    "        h = H / 2\n",
    "        x = list()\n",
    "        x.append(a + h)\n",
    "        for i in range(1, n):\n",
    "            x.append(x[-1] + H)\n",
    "        y = [f(x[i]) for i in range(0, n)]\n",
    "        ir_H.append(H * sum(y))\n",
    "        it_h.append(0.5 * (ir_H[-1] + it_H[-1]))\n",
    "        rt_h.append(1 / 3 * (it_h[-1] - it_H[-1]))\n",
    "        if abs(rt_h[-1]) > e:\n",
    "            n *= 2\n",
    "            H = h\n",
    "            it_H.append(it_h[-1])\n",
    "        else:\n",
    "            break\n",
    "\n",
    "    I = it_h[-1] + rt_h[-1]\n",
    "\n",
    "    return (\n",
    "        it_H,\n",
    "        ir_H,\n",
    "        it_h,\n",
    "        rt_h,\n",
    "        I,\n",
    "    )"
   ]
  },
  {
   "cell_type": "code",
   "execution_count": 13,
   "metadata": {},
   "outputs": [],
   "source": [
    "it_H, ir_H, it_h, rt_h, I, = rectangle_method(f, a, b)"
   ]
  },
  {
   "cell_type": "code",
   "execution_count": 15,
   "metadata": {},
   "outputs": [
    {
     "name": "stdout",
     "output_type": "stream",
     "text": [
      "+----+--------------------+--------------------+--------------------+-------------------------+\n",
      "| n  |       I_t(H)       |       I_п(H)       |       I_t(h)       |          R_t(h)         |\n",
      "+----+--------------------+--------------------+--------------------+-------------------------+\n",
      "| 1  | 3.1952305953563203 | 2.1910516753241476 | 2.693141135340234  |   -0.16736315333869545  |\n",
      "| 2  | 2.693141135340234  |  2.40217904407241  | 2.547660089706322  |   -0.04849368187797065  |\n",
      "| 3  | 2.547660089706322  | 2.4711151441345724 | 2.5093876169204474 |  -0.012757490928624843  |\n",
      "| 4  | 2.5093876169204474 | 2.489972974629382  | 2.4996802957749145 |  -0.003235773715177655  |\n",
      "| 5  | 2.4996802957749145 | 2.4948083981478653 | 2.4972443469613896 |  -0.000811982937841608  |\n",
      "| 6  | 2.4972443469613896 | 2.496025218484056  | 2.496634782722723  | -0.00020318807955558663 |\n",
      "| 7  | 2.496634782722723  | 2.4963299282459745 | 2.496482355484349  | -5.0809079457980744e-05 |\n",
      "| 8  | 2.496482355484349  | 2.496406137339241  | 2.4964442464117953 | -1.2703024184546052e-05 |\n",
      "| 9  | 2.4964442464117953 | 2.496425191592591  | 2.496434719002193  | -3.1758032007130526e-06 |\n",
      "| 10 | 2.496434719002193  | 2.4964299552797073 | 2.4964323371409503 |  -7.939537476353564e-07 |\n",
      "| 11 | 2.4964323371409503 | 2.4964311462092272 | 2.4964317416750887 | -1.9848862050271993e-07 |\n",
      "| 12 | 2.4964317416750887 | 2.496431443942083  | 2.4964315928085856 |  -4.96221677082076e-08  |\n",
      "| 13 | 2.4964315928085856 | 2.4964315183753376 | 2.4964315555919616 | -1.2405541334932952e-08 |\n",
      "| 14 | 2.4964315555919616 | 2.496431536983655  | 2.496431546287808  | -3.1013844825622527e-09 |\n",
      "| 15 | 2.496431546287808  | 2.496431541635721  | 2.496431543961765  |  -7.753477859751001e-10 |\n",
      "+----+--------------------+--------------------+--------------------+-------------------------+\n",
      "I =  2.496431543186417\n"
     ]
    }
   ],
   "source": [
    "t = PrettyTable(['n', 'I_t(H)', 'I_п(H)', 'I_t(h)', 'R_t(h)'])\n",
    "for i in range(len(it_H_list)):\n",
    "    t.add_row([i + 1, it_H_list[i], ir_H_list[i], it_h_list[i], rt_h_list[i]])\n",
    "print(t)\n",
    "print(\"I = \", I)"
   ]
  }
 ],
 "metadata": {
  "kernelspec": {
   "display_name": "Python 3",
   "language": "python",
   "name": "python3"
  },
  "language_info": {
   "codemirror_mode": {
    "name": "ipython",
    "version": 3
   },
   "file_extension": ".py",
   "mimetype": "text/x-python",
   "name": "python",
   "nbconvert_exporter": "python",
   "pygments_lexer": "ipython3",
   "version": "3.7.0"
  }
 },
 "nbformat": 4,
 "nbformat_minor": 2
}
